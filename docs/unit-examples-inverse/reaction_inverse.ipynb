{
 "cells": [
  {
   "metadata": {},
   "cell_type": "markdown",
   "source": [
    "# Inverse problem for the diffusion-reaction system\n",
    "\n",
    "## The problem we are solving\n",
    "\n",
    "We will solve an inverse problem for diffusion-reaction systems for unknowns $D$ and $k_f$:\n",
    "\n",
    "$$\\frac{\\partial C_A}{\\partial t}=D\\frac{\\partial^2C_A}{\\partial x^2}-k_fC_AC_B^2,$$\n",
    "$$\\frac{\\partial C_B}{\\partial t}=D\\frac{\\partial^2C_B}{\\partial x^2}-2k_fC_AC_B^2$$\n",
    "\n",
    "for $x\\in[0,1]$ and $t\\in[0,10]$ initial conditions\n",
    "\n",
    "$$C_A(x,0)=C_B(x,0)=e^{-20x}$$\n",
    "\n",
    "and boundary conditions\n",
    "\n",
    "$$C_A(0,t)=C_B(0,t)=1\\\\C_A(1,t)=C_B(1,t)=0.$$\n",
    "\n",
    "The expected values of $D$ and $k_f$ are $2\\cdot10^{-3}$ and 0.1, respectively.\n",
    "\n",
    "\n",
    "\n",
    "Below is the dimensional analysis for the given **diffusion-reaction system** with unknowns $ D $ and $ k_f $:\n",
    "\n",
    "The equations are:  \n",
    "$$\n",
    "\\frac{\\partial C_A}{\\partial t} = D \\frac{\\partial^2 C_A}{\\partial x^2} - k_f C_A C_B^2, \\quad \\frac{\\partial C_B}{\\partial t} = D \\frac{\\partial^2 C_B}{\\partial x^2} - 2k_f C_A C_B^2.\n",
    "$$\n",
    "\n",
    "\n",
    "\n",
    "## Dimensional Analysis\n",
    "\n",
    "\n",
    "---\n",
    "\n",
    "### Step 1: Assign Dimensions to Variables\n",
    "\n",
    "1. **Spatial Coordinate $x$:**  \n",
    "   - The dimension of $x$ is length:  \n",
    "     $$\n",
    "     [x] = L.\n",
    "     $$\n",
    "\n",
    "2. **Time $t$:**  \n",
    "   - The dimension of time is:  \n",
    "     $$\n",
    "     [t] = T.\n",
    "     $$\n",
    "\n",
    "3. **Concentrations $C_A$ and $C_B$:**  \n",
    "   - Concentrations typically have dimensions of **moles per unit volume**:  \n",
    "     $$\n",
    "     [C_A] = [C_B] = N / L^3,\n",
    "     $$\n",
    "     where $N$ represents the amount of substance (moles).\n",
    "\n",
    "4. **Diffusion Coefficient $D$:**  \n",
    "   - The diffusion term involves $\\partial^2 C_A / \\partial x^2$, which has dimensions:  \n",
    "     $$\n",
    "     \\left[\\frac{\\partial^2 C_A}{\\partial x^2}\\right] = \\frac{[C_A]}{[x]^2} = \\frac{N}{L^5}.\n",
    "     $$\n",
    "   - The time derivative $\\partial C_A / \\partial t$ has dimensions:  \n",
    "     $$\n",
    "     \\left[\\frac{\\partial C_A}{\\partial t}\\right] = \\frac{[C_A]}{[t]} = \\frac{N}{L^3 T}.\n",
    "     $$\n",
    "   - For dimensional consistency in the diffusion term $D \\frac{\\partial^2 C_A}{\\partial x^2}$, $D$ must have dimensions:  \n",
    "     $$\n",
    "     [D] \\cdot \\frac{N}{L^5} = \\frac{N}{L^3 T} \\implies [D] = \\frac{L^2}{T}.\n",
    "     $$\n",
    "\n",
    "5. **Reaction Rate Constant $k_f$:**  \n",
    "   - The reaction term $k_f C_A C_B^2$ must have the same dimensions as $\\partial C_A / \\partial t$, which is $N / (L^3 T)$.  \n",
    "   - The product $C_A C_B^2$ has dimensions:  \n",
    "     $$\n",
    "     [C_A C_B^2] = \\left(\\frac{N}{L^3}\\right)\\left(\\frac{N}{L^3}\\right)^2 = \\frac{N^3}{L^9}.\n",
    "     $$\n",
    "   - To balance dimensions, $k_f$ must satisfy:  \n",
    "     $$\n",
    "     [k_f] \\cdot \\frac{N^3}{L^9} = \\frac{N}{L^3 T} \\implies [k_f] = \\frac{L^6}{N^2 T}.\n",
    "     $$\n",
    "\n",
    "---\n",
    "\n",
    "### Step 2: Initial and Boundary Conditions\n",
    "\n",
    "- **Initial Conditions:** $C_A(x,0) = C_B(x,0) = e^{-20x}$  \n",
    "  - The exponential function is dimensionless, so the initial condition is consistent with $C_A$ and $C_B$ having dimensions $N / L^3$.\n",
    "\n",
    "- **Boundary Conditions:** $C_A(0,t) = C_B(0,t) = 1$ and $C_A(1,t) = C_B(1,t) = 0$  \n",
    "  - These conditions specify dimensionless values for $C_A$ and $C_B$ scaled appropriately.\n",
    "\n",
    "---\n",
    "\n",
    "### Step 3: Summary of Dimensions\n",
    "\n",
    "| Variable/Parameter     | Physical Meaning                   | Dimensions            |\n",
    "|------------------------|-----------------------------------|-----------------------|\n",
    "| $x$                  | Spatial coordinate                | $L$                 |\n",
    "| $t$                  | Time                              | $T$                 |\n",
    "| $C_A, C_B$           | Concentrations (solute)           | $N / L^3$           |\n",
    "| $D$                  | Diffusion coefficient             | $L^2 / T$           |\n",
    "| $k_f$                | Reaction rate constant            | $L^6 / (N^2 T)$     |\n",
    "\n",
    "---\n",
    "\n",
    "### Step 4: Given Values\n",
    "\n",
    "- $D = 2 \\cdot 10^{-3}$: The value is consistent with $[D] = L^2 / T$.  \n",
    "- $k_f = 0.1$: The value is consistent with $[k_f] = L^6 / (N^2 T)$.  \n",
    "\n",
    "These values and dimensions are appropriate for the given system.\n",
    "\n",
    "\n",
    "## Implementation\n",
    "\n",
    "Below is the implementation of the inverse problem for the diffusion-reaction system using PINNx.\n",
    "\n",
    "We first load the dataset and define the PDE and neural network model. We then define the boundary and initial conditions, create the geometry, and set up the problem. Finally, we generate training data and solve the inverse problem to estimate the diffusion coefficient $D$ and reaction rate constant $k_f$."
   ],
   "id": "279084cb29c58e51"
  },
  {
   "metadata": {
    "ExecuteTime": {
     "end_time": "2024-12-17T11:57:30.259168Z",
     "start_time": "2024-12-17T11:57:27.822591Z"
    }
   },
   "cell_type": "code",
   "source": [
    "import brainstate as bst\n",
    "import brainunit as u\n",
    "import numpy as np\n",
    "\n",
    "import pinnx\n"
   ],
   "id": "205911c6d4d69526",
   "outputs": [],
   "execution_count": 1
  },
  {
   "metadata": {},
   "cell_type": "markdown",
   "source": "Define the physical units for the problem:",
   "id": "d742a533bc1b9f40"
  },
  {
   "metadata": {
    "ExecuteTime": {
     "end_time": "2024-12-17T11:57:30.268480Z",
     "start_time": "2024-12-17T11:57:30.264509Z"
    }
   },
   "cell_type": "code",
   "source": [
    "unit_of_x = u.meter\n",
    "unit_of_t = u.second\n",
    "unit_of_c = u.mole / u.meter ** 3\n"
   ],
   "id": "99a72a216707e048",
   "outputs": [],
   "execution_count": 2
  },
  {
   "metadata": {},
   "cell_type": "markdown",
   "source": "Define the parameters and the PDE:",
   "id": "15e1eaa719f3e5fb"
  },
  {
   "metadata": {
    "ExecuteTime": {
     "end_time": "2024-12-17T11:57:30.349029Z",
     "start_time": "2024-12-17T11:57:30.326235Z"
    }
   },
   "cell_type": "code",
   "source": [
    "\n",
    "kf = bst.ParamState(0.05 * u.meter ** 6 / u.mole ** 2 / u.second)\n",
    "D = bst.ParamState(1.0 * u.meter ** 2 / u.second)\n",
    "\n",
    "\n",
    "def pde(x, y):\n",
    "    jacobian = net.jacobian(x, x='t')\n",
    "    hessian = net.hessian(x)\n",
    "    ca, cb = y['ca'], y['cb']\n",
    "    dca_t = jacobian['ca']['t']\n",
    "    dcb_t = jacobian['cb']['t']\n",
    "    dca_xx = hessian['ca']['x']['x']\n",
    "    dcb_xx = hessian['cb']['x']['x']\n",
    "    eq_a = dca_t - 1e-3 * D.value * dca_xx + kf.value * ca * cb ** 2\n",
    "    eq_b = dcb_t - 1e-3 * D.value * dcb_xx + 2 * kf.value * ca * cb ** 2\n",
    "    return [eq_a, eq_b]\n"
   ],
   "id": "7f12f0c9983f84a4",
   "outputs": [],
   "execution_count": 3
  },
  {
   "metadata": {},
   "cell_type": "markdown",
   "source": "Define the neural network model:",
   "id": "11b3d9b47bc88f60"
  },
  {
   "metadata": {
    "ExecuteTime": {
     "end_time": "2024-12-17T11:57:30.701936Z",
     "start_time": "2024-12-17T11:57:30.355769Z"
    }
   },
   "cell_type": "code",
   "source": [
    "net = pinnx.nn.Model(\n",
    "    pinnx.nn.DictToArray(x=unit_of_x, t=unit_of_t),\n",
    "    pinnx.nn.FNN([2] + [20] * 3 + [2], \"tanh\"),\n",
    "    pinnx.nn.ArrayToDict(ca=unit_of_c, cb=unit_of_c),\n",
    ")"
   ],
   "id": "b775fc99b5ee8c55",
   "outputs": [],
   "execution_count": 4
  },
  {
   "metadata": {},
   "cell_type": "markdown",
   "source": "Define the geometry:",
   "id": "ef5efb7f3bd9906b"
  },
  {
   "metadata": {
    "ExecuteTime": {
     "end_time": "2024-12-17T11:57:30.716369Z",
     "start_time": "2024-12-17T11:57:30.713200Z"
    }
   },
   "cell_type": "code",
   "source": [
    "geom = pinnx.geometry.Interval(0, 1)\n",
    "timedomain = pinnx.geometry.TimeDomain(0, 10)\n",
    "geomtime = pinnx.geometry.GeometryXTime(geom, timedomain)\n",
    "geomtime = geomtime.to_dict_point(x=unit_of_x, t=unit_of_t)"
   ],
   "id": "d498ccf2539f5328",
   "outputs": [],
   "execution_count": 5
  },
  {
   "metadata": {},
   "cell_type": "markdown",
   "source": "Define the boundary condition function:",
   "id": "b2f8765abd40ccb8"
  },
  {
   "metadata": {
    "ExecuteTime": {
     "end_time": "2024-12-17T11:57:30.730191Z",
     "start_time": "2024-12-17T11:57:30.726746Z"
    }
   },
   "cell_type": "code",
   "source": [
    "def fun_bc(x):\n",
    "    c = (1 - x['x'] / unit_of_x) * unit_of_c\n",
    "    return {'ca': c, 'cb': c}\n",
    "\n",
    "\n",
    "bc = pinnx.icbc.DirichletBC(fun_bc)"
   ],
   "id": "4a0af6e60e78144b",
   "outputs": [],
   "execution_count": 6
  },
  {
   "metadata": {},
   "cell_type": "markdown",
   "source": "Define the initial condition function:",
   "id": "1d88ddda62f92154"
  },
  {
   "metadata": {
    "ExecuteTime": {
     "end_time": "2024-12-17T11:57:30.743564Z",
     "start_time": "2024-12-17T11:57:30.740694Z"
    }
   },
   "cell_type": "code",
   "source": [
    "def fun_init(x):\n",
    "    return {\n",
    "        'ca': u.math.exp(-20 * x['x'] / unit_of_x) * unit_of_c,\n",
    "        'cb': u.math.exp(-20 * x['x'] / unit_of_x) * unit_of_c,\n",
    "    }\n",
    "\n",
    "\n",
    "ic = pinnx.icbc.IC(fun_init)"
   ],
   "id": "bf5b45de593f59ee",
   "outputs": [],
   "execution_count": 7
  },
  {
   "metadata": {},
   "cell_type": "markdown",
   "source": "Define a function to generate training data:",
   "id": "6e20907e3949fec2"
  },
  {
   "metadata": {
    "ExecuteTime": {
     "end_time": "2024-12-17T11:57:30.761991Z",
     "start_time": "2024-12-17T11:57:30.754627Z"
    }
   },
   "cell_type": "code",
   "source": [
    "\n",
    "def gen_traindata():\n",
    "    data = np.load(\"../dataset/reaction.npz\")\n",
    "    t, x, ca, cb = data[\"t\"], data[\"x\"], data[\"Ca\"], data[\"Cb\"]\n",
    "    X, T = np.meshgrid(x, t)\n",
    "    x = {'x': X.flatten() * unit_of_x, 't': T.flatten() * unit_of_t}\n",
    "    y = {'ca': ca.flatten() * unit_of_c, 'cb': cb.flatten() * unit_of_c}\n",
    "    return x, y\n",
    "\n",
    "\n",
    "observe_x, observe_y = gen_traindata()\n",
    "observe_bc = pinnx.icbc.PointSetBC(observe_x, observe_y)"
   ],
   "id": "e04b9f425939fbd9",
   "outputs": [],
   "execution_count": 8
  },
  {
   "metadata": {},
   "cell_type": "markdown",
   "source": "Define the problem and solve the inverse problem:",
   "id": "980a88d6abc9efb3"
  },
  {
   "metadata": {
    "ExecuteTime": {
     "end_time": "2024-12-17T11:57:31.371099Z",
     "start_time": "2024-12-17T11:57:30.820203Z"
    }
   },
   "cell_type": "code",
   "source": [
    "data = pinnx.problem.TimePDE(\n",
    "    geomtime,\n",
    "    pde,\n",
    "    [bc, ic, observe_bc],\n",
    "    net,\n",
    "    num_domain=2000,\n",
    "    num_boundary=100,\n",
    "    num_initial=100,\n",
    "    anchors=observe_x,\n",
    "    num_test=50000,\n",
    ")\n"
   ],
   "id": "ca9735601273941",
   "outputs": [
    {
     "name": "stdout",
     "output_type": "stream",
     "text": [
      "Warning: 50000 points required, but 50055 points sampled.\n"
     ]
    }
   ],
   "execution_count": 9
  },
  {
   "metadata": {
    "jupyter": {
     "is_executing": true
    },
    "ExecuteTime": {
     "start_time": "2024-12-17T11:57:31.527399Z"
    }
   },
   "cell_type": "code",
   "source": [
    "variable = pinnx.callbacks.VariableValue([kf, D], period=1000, filename=\"./variables.dat\")\n",
    "model = pinnx.Trainer(data, external_trainable_variables=[kf, D])\n",
    "model.compile(bst.optim.Adam(0.001)).train(iterations=80000, callbacks=[variable])\n",
    "model.saveplot(issave=True, isplot=True)"
   ],
   "id": "6077c109557ca484",
   "outputs": [
    {
     "name": "stdout",
     "output_type": "stream",
     "text": [
      "Compiling trainer...\n",
      "'compile' took 0.055027 s\n",
      "\n",
      "Training trainer...\n",
      "\n",
      "Step      Train loss                                              Test loss                                               Test metric \n",
      "0         [0.09352963 * 10.0^0 * (mmolar / second) ** 2,          [0.08070567 * 10.0^0 * (mmolar / second) ** 2,          []          \n",
      "           0.30233935 * 10.0^0 * (mmolar / second) ** 2,           0.28232208 * 10.0^0 * (mmolar / second) ** 2,                      \n",
      "           {'ibc0': {'ca': 2.5078168 * mmolar,                     {'ibc0': {'ca': 2.5078168 * mmolar,                                \n",
      "                     'cb': 2.447632 * mmolar}},                              'cb': 2.447632 * mmolar}},                               \n",
      "           {'ibc1': {'ca': 1.8000234 * mmolar,                     {'ibc1': {'ca': 1.8000234 * mmolar,                                \n",
      "                     'cb': 0.0453864 * mmolar}},                             'cb': 0.0453864 * mmolar}},                              \n",
      "           {'ibc2': {'ca': 3.1355276 * mmolar,                     {'ibc2': {'ca': 3.1355276 * mmolar,                                \n",
      "                     'cb': 1.4068981 * mmolar}}]                             'cb': 1.4068981 * mmolar}}]                              \n"
     ]
    }
   ],
   "execution_count": null
  },
  {
   "metadata": {},
   "cell_type": "markdown",
   "source": "The inverse problem is solved, and the estimated values of $D$ and $k_f$ are obtained. The results are as follows:",
   "id": "5ea32d35cae6152a"
  },
  {
   "metadata": {},
   "cell_type": "code",
   "outputs": [],
   "execution_count": null,
   "source": "kf",
   "id": "9b2219b56e66045f"
  },
  {
   "metadata": {},
   "cell_type": "code",
   "outputs": [],
   "execution_count": null,
   "source": "D",
   "id": "38de8e25966dffa6"
  }
 ],
 "metadata": {
  "kernelspec": {
   "display_name": "Python 3",
   "language": "python",
   "name": "python3"
  },
  "language_info": {
   "codemirror_mode": {
    "name": "ipython",
    "version": 2
   },
   "file_extension": ".py",
   "mimetype": "text/x-python",
   "name": "python",
   "nbconvert_exporter": "python",
   "pygments_lexer": "ipython2",
   "version": "2.7.6"
  }
 },
 "nbformat": 4,
 "nbformat_minor": 5
}
