{
 "cells": [
  {
   "cell_type": "markdown",
   "metadata": {},
   "source": [
    "# Inverse problem for the Navier-Stokes equation of incompressible flow around cylinder\n",
    "\n",
    "## The problem we are solving\n",
    "\n",
    "We will solve an inverse problem for the Navier-Stokes equation of incompressible flow around a cylinder. Let us consider the Navier–Stokes equations in two dimensions2 (2D) given explicitly by\n",
    "\n",
    "$$\n",
    "\\rho u_t + \\rho λ_1(uu_x + vu_y) = −p_x + \\rho λ_2(u_{xx} + u_{yy}),\n",
    "$$\n",
    "$$\n",
    "\\rho v_t + \\rho λ_1(uv_x + vv_y) = −p_y + \\rho λ_2(v_{xx} + v_{yy}),\n",
    "$$\n",
    "\n",
    "for $x \\in [1, 8]$, $y \\in [-2, 2]$, and $t \\in [0, 7]$ Spatio-temporal domain\n",
    "\n",
    "\n",
    "where $u(t, x, y)$ denotes the $x$-component of the velocity field, $v(t, x, y)$ the y-component, $\\rho$ is the fluid density, and $p(t, x, y)$ the pressure. Here, $λ = (λ_1, λ_2)$ are the unknown parameters. Solutions to the Navier–Stokes equations are searched in the set of divergence-free functions; i.e.,\n",
    "\n",
    "This extra equation is the continuity equation for incompressible fluids that describes the conservation of mass of the fluid. We make the assumption that\n",
    "\n",
    "$$\n",
    "u = ψ_y, v = −ψ_x,\n",
    "$$\n",
    "\n",
    "for some latent function $ψ(t, x, y)$ Under this assumption, the continuity equation will be automatically satisfied. Given noisy measurements\n",
    "\n",
    "$$\n",
    "\\{t^i, x^i , y^i, u^i , v^i \\}^N_{i=1}\n",
    "$$\n",
    "\n",
    "of the velocity field, we are interested in learning the parameters $λ$ as well as the pressure $p(t, x, y)$. We define $f (t, x, y)$ and $g(t, x, y)$ to be given by\n",
    "\n",
    "$$\n",
    "f := u_t + λ_1(uu_x + vu_y) + p_x − λ_2(u_{xx} + u_{yy}),\n",
    "$$\n",
    "$$\n",
    "g := v_t + λ_1(uv_x + vv_y) + p_y − λ_2(v_{xx} + v_{yy}),\n",
    "$$\n",
    "\n",
    "## Dimensional Analysis\n",
    "\n",
    "### Step 1: Assign Dimensions to Variables\n",
    "\n",
    "1. **Spatial Coordinates $x$ and $y$:**\n",
    "   - The dimensions of $x$ and $y$ are length:\n",
    "     $$\n",
    "     [x] = [y] = L.\n",
    "     $$\n",
    "\n",
    "2. **Time $t$:**\n",
    "   - The dimension of time is:\n",
    "     $$\n",
    "     [t] = T.\n",
    "     $$\n",
    "\n",
    "3. **Velocity Components $u$ and $v$:**\n",
    "   - Velocity components have dimensions of length per unit time:\n",
    "     $$\n",
    "     [u] = [v] = L / T.\n",
    "     $$\n",
    "\n",
    "4. **Pressure $p$:**\n",
    "   - Pressure has dimensions of force per unit area, which can be expressed as mass per unit length per unit time squared:\n",
    "     $$\n",
    "     [p] = M / (L T^2),\n",
    "     $$\n",
    "     where $M$ represents mass.\n",
    "\n",
    "5. **Density $\\rho$:**\n",
    "   - Density has dimensions of mass per unit volume:\n",
    "     $$\n",
    "     [\\rho] = M / L^3.\n",
    "     $$\n",
    "\n",
    "6. **Parameters $\\lambda_1$ and $\\lambda_2$:**\n",
    "   - The term $\\rho \\lambda_1(uu_x + vu_y)$ involves the advection term, which must have the same dimensions as the time derivative $\\rho u_t$.\n",
    "   - The term $\\rho \\lambda_2(u_{xx} + u_{yy})$ involves the diffusion term, which must have the same dimensions as the time derivative $\\rho u_t$.\n",
    "\n",
    "---\n",
    "\n",
    "### Step 2: Analyze the Dimensions of Each Term\n",
    "\n",
    "1. **Time Derivative Terms:**\n",
    "   - The time derivatives $\\rho u_t$ and $\\rho v_t$ have dimensions:\n",
    "     $$\n",
    "     [\\rho u_t] = [\\rho v_t] = [\\rho] \\cdot \\frac{[u]}{[t]} = \\frac{M}{L^3} \\cdot \\frac{L}{T^2} = \\frac{M}{L^2 T^2}.\n",
    "     $$\n",
    "\n",
    "2. **Advection Terms:**\n",
    "   - The advection terms $\\rho \\lambda_1(uu_x + vu_y)$ and $\\rho \\lambda_1(uv_x + vv_y)$ involve spatial derivatives of velocity:\n",
    "     $$\n",
    "     [uu_x] = [vu_y] = [uv_x] = [vv_y] = \\frac{[u]^2}{[x]} = \\frac{(L / T)^2}{L} = \\frac{L}{T^2}.\n",
    "     $$\n",
    "   - Therefore, the advection terms have dimensions:\n",
    "     $$\n",
    "     [\\rho \\lambda_1(uu_x + vu_y)] = [\\rho \\lambda_1(uv_x + vv_y)] = [\\rho] \\cdot \\frac{L}{T^2} = \\frac{M}{L^3} \\cdot \\frac{L}{T^2} = \\frac{M}{L^2 T^2}.\n",
    "     $$\n",
    "\n",
    "3. **Pressure Gradient Terms:**\n",
    "   - The pressure gradient terms $-p_x$ and $-p_y$ have dimensions:\n",
    "     $$\n",
    "     [p_x] = [p_y] = \\frac{[p]}{[x]} = \\frac{M / (L T^2)}{L} = \\frac{M}{L^2 T^2}.\n",
    "     $$\n",
    "\n",
    "4. **Diffusion Terms:**\n",
    "   - The diffusion terms $\\rho \\lambda_2(u_{xx} + u_{yy})$ and $\\rho \\lambda_2(v_{xx} + v_{yy})$ involve second spatial derivatives of velocity:\n",
    "     $$\n",
    "     [u_{xx}] = [u_{yy}] = [v_{xx}] = [v_{yy}] = \\frac{[u]}{[x]^2} = \\frac{L / T}{L^2} = \\frac{1}{L T}.\n",
    "     $$\n",
    "   - Therefore, the diffusion terms have dimensions:\n",
    "     $$\n",
    "     [\\rho \\lambda_2(u_{xx} + u_{yy})] = [\\rho \\lambda_2(v_{xx} + v_{yy})] = [\\rho] \\cdot [\\lambda_2] \\cdot \\frac{1}{L T} = \\frac{M}{L^3} \\cdot \\frac{L^2}{T} \\cdot \\frac{1}{L T} = \\frac{M}{L^2 T^2}.\n",
    "     $$\n",
    "\n",
    "---\n",
    "\n",
    "### Step 3: Determine the Dimensions of $\\lambda_1$ and $\\lambda_2$\n",
    "\n",
    "1. **Advection Parameter $\\lambda_1$:**\n",
    "   - The advection term $\\rho \\lambda_1(uu_x + vu_y)$ must have the same dimensions as $\\rho u_t$:\n",
    "     $$\n",
    "     [\\rho \\lambda_1] \\cdot \\frac{L}{T^2} = \\frac{M}{L^2 T^2} \\implies [\\lambda_1] = \\frac{M}{L^2 T^2} \\cdot \\frac{L^2 T^2}{M} = 1.\n",
    "     $$\n",
    "   - Therefore, $\\lambda_1$ has no dimensions.\n",
    "\n",
    "2. **Diffusion Parameter $\\lambda_2$:**\n",
    "   - The diffusion term $\\rho \\lambda_2(u_{xx} + u_{yy})$ must have the same dimensions as $\\rho u_t$:\n",
    "     $$\n",
    "     [\\rho \\lambda_2] \\cdot \\frac{1}{L T} = \\frac{M}{L^2 T^2} \\implies [\\lambda_2] = \\frac{M}{L^2 T^2} \\cdot \\frac{L^4 T}{M} = \\frac{L^2}{T}.\n",
    "     $$\n",
    "   - Therefore, $\\lambda_2$ has dimensions of mass per unit length ($L^2 / T$).\n",
    "\n",
    "---\n",
    "\n",
    "### Step 4: Summary of Dimensions\n",
    "\n",
    "| Variable/Parameter     | Physical Meaning                   | Dimensions            |\n",
    "|------------------------|-----------------------------------|-----------------------|\n",
    "| $x, y$                | Spatial coordinates               | $L$                 |\n",
    "| $t$                  | Time                              | $T$                 |\n",
    "| $u, v$               | Velocity components               | $L / T$             |\n",
    "| $p$                  | Pressure                          | $M / (L T^2)$       |\n",
    "| $\\rho$               | Density                           | $M / L^3$           |\n",
    "| $\\lambda_1$          | Advection parameter               | $1$           |\n",
    "| $\\lambda_2$          | Diffusion parameter               | $L^2 / T$             |\n",
    "\n",
    "---\n",
    "\n",
    "### Step 5: Given Values\n",
    "\n",
    "- $\\lambda_1$ has no dimensions ($M / L^3$).\n",
    "- $\\lambda_2$ has dimensions of length $^2$ per unit time ($L^2 / T$).\n",
    "\n",
    "These dimensions are consistent with the Navier-Stokes equations for incompressible flow, incorporating the density term $\\rho$."
   ]
  },
  {
   "cell_type": "markdown",
   "metadata": {},
   "source": [
    "## Implementation\n",
    "\n",
    "Below is the implementation of the inverse problem for the Navier-Stokes equation of incompressible flow around a cylinder using PINNx.\n",
    "\n",
    "We first import the required libraries."
   ]
  },
  {
   "cell_type": "code",
   "execution_count": 22,
   "metadata": {},
   "outputs": [],
   "source": [
    "import re\n",
    "\n",
    "import brainstate as bst\n",
    "import brainunit as u\n",
    "import numpy as np\n",
    "from scipy.io import loadmat\n",
    "import jax\n",
    "import matplotlib.pyplot as plt\n",
    "\n",
    "import pinnx\n"
   ]
  },
  {
   "cell_type": "markdown",
   "metadata": {},
   "source": [
    "Define the physical units for the problem."
   ]
  },
  {
   "cell_type": "code",
   "execution_count": 6,
   "metadata": {},
   "outputs": [],
   "source": [
    "unit_of_x = u.meter\n",
    "unit_of_y = u.meter\n",
    "unit_of_t = u.second\n",
    "unit_of_rho = u.kilogram / u.meter**3\n",
    "unit_of_c1 = u.UNITLESS\n",
    "unit_of_c2 = u.meter2 / u.second\n",
    "unit_of_u = u.meter / u.second\n",
    "unit_of_v = u.meter / u.second\n",
    "unit_of_p = u.pascal"
   ]
  },
  {
   "cell_type": "markdown",
   "metadata": {},
   "source": [
    "Define Navier Stokes Equations:"
   ]
  },
  {
   "cell_type": "code",
   "execution_count": 3,
   "metadata": {},
   "outputs": [],
   "source": [
    "def Navier_Stokes_Equation(x, y):\n",
    "    jacobian = net.jacobian(x)\n",
    "    x_hessian = net.hessian(x, y=['u', 'v'], xi=['x'], xj=['x'])\n",
    "    y_hessian = net.hessian(x, y=['u', 'v'], xi=['y'], xj=['y'])\n",
    "\n",
    "    u = y['u']\n",
    "    v = y['v']\n",
    "    p = y['p']\n",
    "    du_x = jacobian['u']['x']\n",
    "    du_y = jacobian['u']['y']\n",
    "    du_t = jacobian['u']['t']\n",
    "    dv_x = jacobian['v']['x']\n",
    "    dv_y = jacobian['v']['y']\n",
    "    dv_t = jacobian['v']['t']\n",
    "    dp_x = jacobian['p']['x']\n",
    "    dp_y = jacobian['p']['y']\n",
    "    du_xx = x_hessian['u']['x']['x']\n",
    "    du_yy = y_hessian['u']['y']['y']\n",
    "    dv_xx = x_hessian['v']['x']['x']\n",
    "    dv_yy = y_hessian['v']['y']['y']\n",
    "    continuity = du_x + dv_y\n",
    "    x_momentum = unit_of_rho * du_t + unit_of_rho * C1.value * (u * du_x + v * du_y) + dp_x - unit_of_rho * C2.value * (du_xx + du_yy)\n",
    "    y_momentum = unit_of_rho * dv_t + unit_of_rho * C1.value * (u * dv_x + v * dv_y) + dp_y - unit_of_rho * C2.value * (dv_xx + dv_yy)\n",
    "    return [continuity, x_momentum, y_momentum]\n"
   ]
  },
  {
   "cell_type": "markdown",
   "metadata": {},
   "source": [
    "Define the neural network model:"
   ]
  },
  {
   "cell_type": "code",
   "execution_count": 7,
   "metadata": {},
   "outputs": [],
   "source": [
    "net = pinnx.nn.Model(\n",
    "    pinnx.nn.DictToArray(x=unit_of_x, y=unit_of_y, t=unit_of_t),\n",
    "    pinnx.nn.FNN([3] + [50] * 6 + [3], \"tanh\"),\n",
    "    pinnx.nn.ArrayToDict(u=unit_of_u, v=unit_of_v, p=unit_of_p),\n",
    ")"
   ]
  },
  {
   "cell_type": "markdown",
   "metadata": {},
   "source": [
    "Define Spatio-temporal domain"
   ]
  },
  {
   "cell_type": "code",
   "execution_count": 8,
   "metadata": {},
   "outputs": [],
   "source": [
    "# Rectangular\n",
    "Lx_min, Lx_max = 1.0, 8.0\n",
    "Ly_min, Ly_max = -2.0, 2.0\n",
    "# Spatial domain: X × Y = [1, 8] × [−2, 2]\n",
    "space_domain = pinnx.geometry.Rectangle([Lx_min, Ly_min], [Lx_max, Ly_max])\n",
    "# Time domain: T = [0, 7]\n",
    "time_domain = pinnx.geometry.TimeDomain(0, 7)\n",
    "# Spatio-temporal domain\n",
    "geomtime = pinnx.geometry.GeometryXTime(space_domain, time_domain)\n",
    "geomtime = geomtime.to_dict_point(x=unit_of_x, y=unit_of_y, t=unit_of_t)\n"
   ]
  },
  {
   "cell_type": "markdown",
   "metadata": {},
   "source": [
    "Define the true values of the $\\lambda_1, \\lambda_2$ and the function to load training data."
   ]
  },
  {
   "cell_type": "code",
   "execution_count": 9,
   "metadata": {},
   "outputs": [],
   "source": [
    "# true values\n",
    "C1true = 1.0\n",
    "C2true = 0.01 * unit_of_c2\n",
    "\n",
    "\n",
    "# Load training data\n",
    "def load_training_data(num):\n",
    "    data = loadmat(\"../dataset/cylinder_nektar_wake.mat\")\n",
    "    U_star = data[\"U_star\"]  # N x 2 x T\n",
    "    P_star = data[\"p_star\"]  # N x T\n",
    "    t_star = data[\"t\"]  # T x 1\n",
    "    X_star = data[\"X_star\"]  # N x 2\n",
    "    N = X_star.shape[0]\n",
    "    T = t_star.shape[0]\n",
    "    # Rearrange Problem\n",
    "    XX = np.tile(X_star[:, 0:1], (1, T))  # N x T\n",
    "    YY = np.tile(X_star[:, 1:2], (1, T))  # N x T\n",
    "    TT = np.tile(t_star, (1, N)).T  # N x T\n",
    "    UU = U_star[:, 0, :]  # N x T\n",
    "    VV = U_star[:, 1, :]  # N x T\n",
    "    PP = P_star  # N x T\n",
    "    x = XX.flatten()[:, None]  # NT x 1\n",
    "    y = YY.flatten()[:, None]  # NT x 1\n",
    "    t = TT.flatten()[:, None]  # NT x 1\n",
    "    u = UU.flatten()[:, None]  # NT x 1\n",
    "    v = VV.flatten()[:, None]  # NT x 1\n",
    "    p = PP.flatten()[:, None]  # NT x 1\n",
    "    # training domain: X × Y = [1, 8] × [−2, 2] and T = [0, 7]\n",
    "    data1 = np.concatenate([x, y, t, u, v, p], 1)\n",
    "    data2 = data1[:, :][data1[:, 2] <= 7]\n",
    "    data3 = data2[:, :][data2[:, 0] >= 1]\n",
    "    data4 = data3[:, :][data3[:, 0] <= 8]\n",
    "    data5 = data4[:, :][data4[:, 1] >= -2]\n",
    "    data_domain = data5[:, :][data5[:, 1] <= 2]\n",
    "    # choose number of training points: num =7000\n",
    "    idx = np.random.choice(data_domain.shape[0], num, replace=False)\n",
    "    x_train = data_domain[idx, 0]\n",
    "    y_train = data_domain[idx, 1]\n",
    "    t_train = data_domain[idx, 2]\n",
    "    u_train = data_domain[idx, 3]\n",
    "    v_train = data_domain[idx, 4]\n",
    "    p_train = data_domain[idx, 5]\n",
    "    # return [x_train, y_train, t_train, u_train, v_train, p_train]\n",
    "    return [x_train * unit_of_x, y_train * unit_of_y, t_train * unit_of_t,\n",
    "            u_train * unit_of_u, v_train * unit_of_v, p_train * unit_of_p]\n"
   ]
  },
  {
   "cell_type": "markdown",
   "metadata": {},
   "source": [
    "Define the Parameters to be identified:"
   ]
  },
  {
   "cell_type": "code",
   "execution_count": 10,
   "metadata": {},
   "outputs": [],
   "source": [
    "C1 = bst.ParamState(0.0)\n",
    "C2 = bst.ParamState(0.0 * unit_of_c2)"
   ]
  },
  {
   "cell_type": "markdown",
   "metadata": {},
   "source": [
    "Get the training data:"
   ]
  },
  {
   "cell_type": "code",
   "execution_count": 14,
   "metadata": {},
   "outputs": [],
   "source": [
    "[ob_x, ob_y, ob_t, ob_u, ob_v, ob_p] = load_training_data(num=7000)\n",
    "ob_xyt = {\"x\": ob_x, \"y\": ob_y, \"t\": ob_t}\n",
    "ob_yv = {\"u\": ob_u, \"v\": ob_v, }\n",
    "observe_bc = pinnx.icbc.PointSetBC(ob_xyt, ob_yv)"
   ]
  },
  {
   "cell_type": "markdown",
   "metadata": {},
   "source": [
    "Define the problem and solve the inverse problem:"
   ]
  },
  {
   "cell_type": "code",
   "execution_count": 15,
   "metadata": {},
   "outputs": [],
   "source": [
    "problem = pinnx.problem.TimePDE(\n",
    "    geomtime,\n",
    "    Navier_Stokes_Equation,\n",
    "    [observe_bc],\n",
    "    net,\n",
    "    num_domain=700,\n",
    "    num_boundary=200,\n",
    "    num_initial=100,\n",
    "    anchors=ob_xyt,\n",
    ")"
   ]
  },
  {
   "cell_type": "markdown",
   "metadata": {},
   "source": [
    "Setup the model trainer:"
   ]
  },
  {
   "cell_type": "code",
   "execution_count": 16,
   "metadata": {},
   "outputs": [],
   "source": [
    "model = pinnx.Trainer(problem, external_trainable_variables=[C1, C2])"
   ]
  },
  {
   "cell_type": "markdown",
   "metadata": {},
   "source": [
    "Define the callbacks for storing results:"
   ]
  },
  {
   "cell_type": "code",
   "execution_count": 17,
   "metadata": {},
   "outputs": [],
   "source": [
    "fnamevar = \"variables.dat\"\n",
    "variable = pinnx.callbacks.VariableValue([C1, C2], period=100, filename=fnamevar)\n"
   ]
  },
  {
   "cell_type": "markdown",
   "metadata": {},
   "source": [
    "Compile, train and save trainer:"
   ]
  },
  {
   "cell_type": "code",
   "execution_count": null,
   "metadata": {},
   "outputs": [],
   "source": [
    "model.compile(bst.optim.Adam(1e-3)).train(iterations=10000, callbacks=[variable],\n",
    "                                          display_every=1000, disregard_previous_best=True)\n",
    "model.saveplot(issave=True, isplot=True)\n",
    "model.compile(bst.optim.Adam(1e-4)).train(iterations=10000, callbacks=[variable],\n",
    "                                          display_every=1000, disregard_previous_best=True)\n",
    "model.saveplot(issave=True, isplot=True)"
   ]
  },
  {
   "cell_type": "markdown",
   "metadata": {},
   "source": [
    "Calculate the mean residual error:"
   ]
  },
  {
   "cell_type": "code",
   "execution_count": 20,
   "metadata": {},
   "outputs": [
    {
     "name": "stdout",
     "output_type": "stream",
     "text": [
      "Mean residual: [0.04728882 * becquerel, 0.04445616 * kilogram / klitre * (meter / second) / second, 0.0641908 * kilogram / klitre * (meter / second) / second]\n"
     ]
    }
   ],
   "source": [
    "f = model.predict(ob_xyt, operator=Navier_Stokes_Equation)\n",
    "print(\"Mean residual:\", jax.tree.map(lambda x: u.math.mean(u.math.abs(x)), f))"
   ]
  },
  {
   "cell_type": "markdown",
   "metadata": {},
   "source": [
    "Plot Variables:"
   ]
  },
  {
   "cell_type": "code",
   "execution_count": 23,
   "metadata": {},
   "outputs": [
    {
     "name": "stderr",
     "output_type": "stream",
     "text": [
      "/var/folders/x0/_jqxxbbn0rsdn6b4h6fxbrjr0000gn/T/ipykernel_24545/4284654551.py:6: DeprecationWarning: string or file could not be read to its end due to unmatched data; this will raise a ValueError in the future.\n",
      "  np.fromstring(\n"
     ]
    },
    {
     "data": {
      "image/png": "[encoded data removed]",
      "text/plain": [
       "<Figure size 640x480 with 1 Axes>"
      ]
     },
     "metadata": {},
     "output_type": "display_data"
    }
   ],
   "source": [
    "# reopen saved data using callbacks in fnamevar\n",
    "lines = open(fnamevar, \"r\").readlines()\n",
    "# read output data in fnamevar\n",
    "Chat = np.array(\n",
    "    [\n",
    "        np.fromstring(\n",
    "            min(re.findall(re.escape(\"[\") + \"(.*?)\" + re.escape(\"]\"), line), key=len),\n",
    "            sep=\",\",\n",
    "        )\n",
    "        for line in lines\n",
    "    ]\n",
    ")\n",
    "l, c = Chat.shape\n",
    "plt.semilogy(range(0, l * 100, 100), Chat[:, 0], \"r-\")\n",
    "plt.semilogy(range(0, l * 100, 100), Chat[:, 1], \"k-\")\n",
    "plt.semilogy(range(0, l * 100, 100), np.ones(Chat[:, 0].shape) * C1true, \"r--\")\n",
    "plt.semilogy(range(0, l * 100, 100), np.ones(Chat[:, 1].shape) * C2true, \"k--\")\n",
    "plt.legend([\"C1hat\", \"C2hat\", \"True C1\", \"True C2\"], loc=\"right\")\n",
    "plt.xlabel(\"Epochs\")\n",
    "plt.title(\"Variables\")\n",
    "plt.show()"
   ]
  },
  {
   "cell_type": "markdown",
   "metadata": {},
   "source": [
    "Plot the velocity distribution of the flow field:"
   ]
  },
  {
   "cell_type": "code",
   "execution_count": null,
   "metadata": {},
   "outputs": [],
   "source": [
    "for t in range(0, 8):\n",
    "    t = t * unit_of_t\n",
    "    [ob_x, ob_y, ob_t, ob_u, ob_v, ob_p] = load_training_data(num=140000)\n",
    "\n",
    "    xyt_pred = {\"x\": ob_x, \"y\": ob_y, \"t\": t * np.ones((len(ob_x),))}\n",
    "    uvp_pred = model.predict(xyt_pred)\n",
    "\n",
    "    x_pred, y_pred, t_pred = xyt_pred['x'], xyt_pred['y'], xyt_pred['t']\n",
    "    u_pred, v_pred, p_pred = uvp_pred['u'], uvp_pred['v'], uvp_pred['p']\n",
    "    x_true = ob_x[ob_t == t]\n",
    "    y_true = ob_y[ob_t == t]\n",
    "    u_true = ob_u[ob_t == t]\n",
    "    fig, ax = plt.subplots(2, 1)\n",
    "    cntr0 = ax[0].tricontourf(x_pred.mantissa, y_pred.mantissa, u_pred.mantissa, levels=80, cmap=\"rainbow\")\n",
    "    cb0 = plt.colorbar(cntr0, ax=ax[0])\n",
    "    cntr1 = ax[1].tricontourf(x_true.mantissa, y_true.mantissa, u_true.mantissa, levels=80, cmap=\"rainbow\")\n",
    "    cb1 = plt.colorbar(cntr1, ax=ax[1])\n",
    "    ax[0].set_title(\"u-PINN \" + \"(t=\" + str(t) + \")\", fontsize=9.5)\n",
    "    ax[0].axis(\"scaled\")\n",
    "    ax[0].set_xlabel(\"X\", fontsize=7.5, family=\"Arial\")\n",
    "    ax[0].set_ylabel(\"Y\", fontsize=7.5, family=\"Arial\")\n",
    "    ax[1].set_title(\"u-Reference solution \" + \"(t=\" + str(t) + \")\", fontsize=9.5)\n",
    "    ax[1].axis(\"scaled\")\n",
    "    ax[1].set_xlabel(\"X\", fontsize=7.5, family=\"Arial\")\n",
    "    ax[1].set_ylabel(\"Y\", fontsize=7.5, family=\"Arial\")\n",
    "    fig.tight_layout()\n",
    "    plt.show()"
   ]
  }
 ],
 "metadata": {
  "kernelspec": {
   "display_name": "pinnx",
   "language": "python",
   "name": "python3"
  },
  "language_info": {
   "codemirror_mode": {
    "name": "ipython",
    "version": 3
   },
   "file_extension": ".py",
   "mimetype": "text/x-python",
   "name": "python",
   "nbconvert_exporter": "python",
   "pygments_lexer": "ipython3",
   "version": "3.11.11"
  }
 },
 "nbformat": 4,
 "nbformat_minor": 2
}
