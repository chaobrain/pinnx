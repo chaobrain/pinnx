{
 "cells": [
  {
   "cell_type": "markdown",
   "metadata": {},
   "source": [
    "# Inverse problem for the Poisson equation with unknown forcing field\n",
    "\n",
    "## Problem setup\n",
    "\n",
    "We will solve\n",
    "\n",
    "$$\n",
    "\\frac{d^2u}{dx^2} = q(x), \\quad x \\in [-1, 1]\n",
    "$$\n",
    "\n",
    "with the Dirichlet boundary conditions\n",
    "\n",
    "$$\n",
    "u(-1) = 0, \\quad u(1) = 0\n",
    "$$\n",
    "\n",
    "Here, both $u(x)$ and $q(x)$ are unknown. Furthermore, we have the measurement of $u(x)$ at 100 points.\n",
    "\n",
    "The reference solution is $u(x) = \\sin(\\pi x), \\quad q(x) = -\\pi^2 \\sin(\\pi x)$."
   ]
  }
 ],
 "metadata": {
  "language_info": {
   "name": "python"
  }
 },
 "nbformat": 4,
 "nbformat_minor": 2
}
