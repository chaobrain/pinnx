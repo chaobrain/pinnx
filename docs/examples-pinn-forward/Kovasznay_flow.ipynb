{
 "cells": [
  {
   "cell_type": "markdown",
   "metadata": {},
   "source": [
    "# Kovasznay flow\n",
    "\n",
    "## Problem setup\n",
    "\n",
    "We will solve the Kovasznay flow equation on $\\Omega = [0, 1]^2$:\n",
    "\n",
    "$$\n",
    "u\\frac{\\partial u}{\\partial x} + v\\frac{\\partial u}{\\partial y}= -\\frac{\\partial p}{\\partial x} + \\frac{1}{Re}(\\frac{\\partial^2u}{\\partial x^2} + \\frac{\\partial^2u}{\\partial y^2}),\n",
    "$$\n",
    "\n",
    "$$\n",
    "u\\frac{\\partial v}{\\partial x} + v\\frac{\\partial v}{\\partial y}= -\\frac{\\partial p}{\\partial y} + \\frac{1}{Re}(\\frac{\\partial^2v}{\\partial x^2} + \\frac{\\partial^2v}{\\partial y^2}),\n",
    "$$\n",
    "\n",
    "with the Dirichlet boundary conditions\n",
    "\n",
    "$$\n",
    "u(x,y)=0, \\qquad (x,y)\\in \\partial \\Omega\n",
    "$$\n",
    "\n",
    "The reference solution is $u = 1 - e^{\\lambda x} \\cos(2\\pi y), v = \\frac{\\lambda}{2\\pi}e^{\\lambda x} \\sin(2\\pi x)$, $p =\\frac{1}{2}(1 - e^{2\\lambda x})$, where $\\lambda = \\frac{1}{2\\nu}-\\sqrt{\\frac{1}{4\\nu^2}+4\\pi^2}$."
   ]
  }
 ],
 "metadata": {
  "kernelspec": {
   "display_name": "pinnx",
   "language": "python",
   "name": "python3"
  },
  "language_info": {
   "name": "python",
   "version": "3.10.15"
  }
 },
 "nbformat": 4,
 "nbformat_minor": 2
}
