{
 "cells": [
  {
   "metadata": {},
   "cell_type": "markdown",
   "source": [
    "# Three-dimensional Beltrami Flow Problem\n",
    "\n",
    "\n",
    "The 3d unsteady Navier-Stokes flow has the following analytical solution:\n",
    "\n",
    "$$\n",
    "\\begin{aligned}\n",
    "u(x, y, z, t)= & -a\\left[e^{a x} \\sin (a y+d z)+e^{a z} \\cos (a x+d y)\\right] e^{-d^2 t}, \\\\\n",
    "v(x, y, z, t)= & -a\\left[e^{a y} \\sin (a z+d x)+e^{a x} \\cos (a y+d z)\\right] e^{-d^2 t}, \\\\\n",
    "w(x, y, z, t)= & -a\\left[e^{a z} \\sin (a x+d y)+e^{a y} \\cos (a z+d x)\\right] e^{-d^2 t}, \\\\\n",
    "p(x, y, z, t)= & -\\frac{1}{2} a^2\\left[e^{2 a x}+e^{2 a y}+e^{2 a z}\\right. \\\\\n",
    "& +2 \\sin (a x+d y) \\cos (a z+d x) e^{a(y+z)} \\\\\n",
    "& +2 \\sin (a y+d z) \\cos (a x+d y) e^{a(z+x)} \\\\\n",
    "& \\left.+2 \\sin (a z+d x) \\cos (a y+d z) e^{a(x+y)}\\right] e^{-2 d^2 t}\n",
    "\\end{aligned}\n",
    "$$\n",
    "\n",
    "where the parameters a and d are 1. The spatial domain is $[-1,1] \\times[-1,1] \\times[-1,1]$. The time interval is $[0, 1]$.\n",
    "\n",
    "\n",
    "\n",
    "\n"
   ],
   "id": "17296f2332f77ca7"
  }
 ],
 "metadata": {
  "kernelspec": {
   "display_name": "Python 3",
   "language": "python",
   "name": "python3"
  },
  "language_info": {
   "codemirror_mode": {
    "name": "ipython",
    "version": 2
   },
   "file_extension": ".py",
   "mimetype": "text/x-python",
   "name": "python",
   "nbconvert_exporter": "python",
   "pygments_lexer": "ipython2",
   "version": "2.7.6"
  }
 },
 "nbformat": 4,
 "nbformat_minor": 5
}
