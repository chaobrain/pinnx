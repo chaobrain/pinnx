{
 "cells": [
  {
   "cell_type": "markdown",
   "metadata": {},
   "source": [
    "# Diffusion Equation"
   ]
  },
  {
   "cell_type": "markdown",
   "metadata": {},
   "source": [
    "## Problem setup\n",
    "We will solve a diffusion equation:\n",
    "\n",
    "$$\n",
    "\\frac{\\partial y}{\\partial t} = \\frac{\\partial^2y}{\\partial x^2} - e^{-t}(\\sin(\\pi x) - \\pi^2\\sin(\\pi x)),   \\qquad x \\in [-1, 1], \\quad t \\in [0, 1]\n",
    "$$\n",
    "\n",
    "with the initial condition\n",
    "\n",
    "$$\n",
    "y(x, 0) = \\sin(\\pi x)\n",
    "$$\n",
    "\n",
    "and the Dirichlet boundary condition\n",
    "\n",
    "$$\n",
    "y(-1, t) = y(1, t) = 0.\n",
    "$$\n",
    "\n",
    "The reference solution is `y = e^{-t} \\sin(\\pi x)`."
   ]
  }
 ],
 "metadata": {
  "language_info": {
   "name": "python"
  }
 },
 "nbformat": 4,
 "nbformat_minor": 2
}
