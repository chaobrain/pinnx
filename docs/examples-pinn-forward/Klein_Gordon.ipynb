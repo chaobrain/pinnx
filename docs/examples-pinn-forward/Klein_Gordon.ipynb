{
 "cells": [
  {
   "cell_type": "markdown",
   "metadata": {},
   "source": [
    "# Klein-Gordon equation\n",
    "\n",
    "## Problem setup\n",
    "\n",
    "We will solve a Klein-Gordon equation:\n",
    "\n",
    "$$\n",
    "\\frac{\\partial^2y}{\\partial t^2} + \\alpha \\frac{\\partial^2y}{\\partial x^2} + \\beta y + \\gamma y^k = -x\\cos(t) + x^2\\cos^2(t), \\qquad x \\in [-1, 1], \\quad t \\in [0, 10]\n",
    "$$\n",
    "\n",
    "with initial conditions\n",
    "\n",
    "$$\n",
    "y(x, 0) = x, \\quad \\frac{\\partial y}{\\partial t}(x, 0) = 0\n",
    "$$\n",
    "\n",
    "and Dirichlet boundary conditions\n",
    "\n",
    "$$\n",
    "y(-1, t) = -\\cos(t), \\quad y(1, t) = \\cos(t)\n",
    "$$\n",
    "\n",
    "We also specify the following parameters for the equation:\n",
    "\n",
    "$$\n",
    "\\alpha = -1, \\beta = 0, \\gamma = 1, k = 2.\n",
    "$$\n",
    "\n",
    "The reference solution is $y(x, t) = x\\cos(t)$."
   ]
  }
 ],
 "metadata": {
  "kernelspec": {
   "display_name": "pinnx",
   "language": "python",
   "name": "python3"
  },
  "language_info": {
   "name": "python",
   "version": "3.10.15"
  }
 },
 "nbformat": 4,
 "nbformat_minor": 2
}
