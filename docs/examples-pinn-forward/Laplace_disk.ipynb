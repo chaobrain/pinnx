{
 "cells": [
  {
   "cell_type": "markdown",
   "metadata": {},
   "source": [
    "# Laplace equation on a disk\n",
    "## Problem setup\n",
    "We will solve a Laplace equation in a polar coordinate system:\n",
    "\n",
    "$$\n",
    "r\\frac{dy}{dr} + r^2\\frac{dy^2}{dr^2} + \\frac{dy^2}{d\\theta^2} = 0,  \\qquad r \\in [0, 1], \\quad \\theta \\in [0, 2\\pi]\n",
    "$$\n",
    "\n",
    "with the Dirichlet boundary condition\n",
    "\n",
    "$$\n",
    "y(1,\\theta) = \\cos(\\theta)\n",
    "$$\n",
    "\n",
    "and the periodic boundary condition\n",
    "\n",
    "$$\n",
    "y(r, \\theta +2\\pi) = y(r, \\theta).\n",
    "$$\n",
    "\n",
    "The reference solution is $y=r\\cos(\\theta)$."
   ]
  }
 ],
 "metadata": {
  "language_info": {
   "name": "python"
  }
 },
 "nbformat": 4,
 "nbformat_minor": 2
}
