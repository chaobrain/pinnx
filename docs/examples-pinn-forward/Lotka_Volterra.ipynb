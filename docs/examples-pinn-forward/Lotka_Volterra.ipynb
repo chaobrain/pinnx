{
 "cells": [
  {
   "cell_type": "markdown",
   "metadata": {},
   "source": [
    "# Lotka-Volterra equation\n",
    "\n",
    "## Problem setup\n",
    "We will solve a Lotka-Volterra equation:\n",
    "\n",
    "$$\n",
    "\\frac{dr}{dt} = \\frac{R}{U}(2Ur - 0.04U^2rp)\n",
    "$$\n",
    "$$\n",
    "\\frac{dp}{dt} = \\frac{R}{U}(0.02U^2rp - 1.06Up)\n",
    "$$\n",
    "with the initial condition\n",
    "\n",
    "$$\n",
    "r(0) = \\frac{100}{U}, \\quad p(0) = \\frac{15}{U}\n",
    "$$\n",
    "\n",
    "and two user-specified parameters\n",
    "\n",
    "$$\n",
    "U = 200, R = 20,\n",
    "$$\n",
    "\n",
    "the first of which approximates the upper bound of the range, and the second is the right bound of the domain. These two will be used for scaling."
   ]
  },
  {
   "cell_type": "markdown",
   "metadata": {},
   "source": [
    "\n"
   ]
  }
 ],
 "metadata": {
  "kernelspec": {
   "display_name": "pinnx",
   "language": "python",
   "name": "python3"
  },
  "language_info": {
   "name": "python",
   "version": "3.10.15"
  }
 },
 "nbformat": 4,
 "nbformat_minor": 2
}
