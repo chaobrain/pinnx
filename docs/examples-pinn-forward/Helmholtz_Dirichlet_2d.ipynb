{
 "cells": [
  {
   "cell_type": "markdown",
   "metadata": {},
   "source": [
    "# Helmholtz equation over a 2D square domain\n",
    "\n",
    "## Problem setup\n",
    "For a wavenumber $k_0 = 2\\pi n$ with $n = 2$, we will solve a Helmholtz equation:\n",
    "\n",
    "$$\n",
    "- u_{xx}-u_{yy} - k_0^2 u = f, \\qquad  \\Omega = [0,1]^2\n",
    "$$\n",
    "\n",
    "with the Dirichlet boundary conditions\n",
    "\n",
    "$$\n",
    "u(x,y)=0, \\qquad (x,y)\\in \\partial \\Omega\n",
    "$$\n",
    "\n",
    "and a source term $f(x,y) = k_0^2 \\sin(k_0 x)\\sin(k_0 y)$.\n",
    "\n",
    "Remark that the exact solution reads:\n",
    "$$\n",
    "u(x,y)= \\sin(k_0 x)\\sin(k_0 y)\n",
    "$$"
   ]
  }
 ],
 "metadata": {
  "kernelspec": {
   "display_name": "pinnx",
   "language": "python",
   "name": "python3"
  },
  "language_info": {
   "name": "python",
   "version": "3.10.15"
  }
 },
 "nbformat": 4,
 "nbformat_minor": 2
}
