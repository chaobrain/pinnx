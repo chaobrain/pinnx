{
 "cells": [
  {
   "cell_type": "markdown",
   "metadata": {},
   "source": [
    "# Euler beam\n",
    "## Problem setup\n",
    "\n",
    "We will solve a Euler beam problem:\n",
    "$$\n",
    "\\frac{\\partial^{4} u}{\\partial x^4} + 1 = 0, \\qquad x \\in [0, 1],\n",
    "$$\n",
    "with two boundary conditions on the right boundary,\n",
    "\n",
    "$$\n",
    "u''(1)=0,   u'''(1)=0\n",
    "$$\n",
    "\n",
    "and one Dirichlet boundary condition on the left boundary,\n",
    "\n",
    "$$\n",
    "u(0)=0\n",
    "$$\n",
    "\n",
    "along with one Neumann boundary condition on the left boundary,\n",
    "\n",
    "$$\n",
    "u'(0)=0\n",
    "$$\n",
    "\n",
    "The exact solution is $u(x) = -\\frac{1}{24}x^4+\\frac{1}{6}x^3-\\frac{1}{4}x^2.$\n",
    "\n"
   ]
  }
 ],
 "metadata": {
  "language_info": {
   "name": "python"
  }
 },
 "nbformat": 4,
 "nbformat_minor": 2
}
