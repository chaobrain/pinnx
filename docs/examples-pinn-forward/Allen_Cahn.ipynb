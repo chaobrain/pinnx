{
 "cells": [
  {
   "cell_type": "markdown",
   "metadata": {},
   "source": [
    "# Allen-Cahn equation"
   ]
  },
  {
   "cell_type": "markdown",
   "metadata": {},
   "source": [
    "## Problem setup\n",
    "We will solve an Allen-Cahn equation:\n",
    "\n",
    "$$\n",
    "\\frac{\\partial u}{\\partial t} = d\\frac{\\partial^2u}{\\partial x^2} + 5(u - u^3), \\quad x \\in [-1, 1], \\quad t \\in [0, 1]\n",
    "$$\n",
    "\n",
    "The initial condition is defined as the following:\n",
    "$$\n",
    "u(x, 0) = x^2\\cos(\\pi x)\n",
    "$$\n",
    "\n",
    "And the boundary condition is defined:\n",
    "$$\n",
    "u(-1, t) = u(1, t) = -1\n",
    "$$\n",
    "\n",
    "The reference solution is [here](https://github.com/chaobrain/pinnx/blob/master/docs/dataset/Allen_Cahn.mat)."
   ]
  },
  {
   "cell_type": "markdown",
   "metadata": {},
   "source": [
    "## Implementation\n",
    "This description goes through the implementation of a solver for the above described Allen-Cahn equation step-by-step.\n",
    "\n",
    "First, Import the necessary library used for this project:"
   ]
  },
  {
   "cell_type": "code",
   "execution_count": null,
   "metadata": {
    "vscode": {
     "languageId": "plaintext"
    }
   },
   "outputs": [],
   "source": [
    "import brainstate as bst\n",
    "import braintools\n",
    "import brainunit as u\n",
    "import numpy as np\n",
    "from scipy.io import loadmat\n",
    "\n",
    "import pinnx"
   ]
  }
 ],
 "metadata": {
  "language_info": {
   "name": "python"
  }
 },
 "nbformat": 4,
 "nbformat_minor": 2
}
